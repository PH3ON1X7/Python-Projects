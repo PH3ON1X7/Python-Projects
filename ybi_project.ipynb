{
 "cells": [
  {
   "cell_type": "markdown",
   "id": "734d2c45",
   "metadata": {},
   "source": [
    "Import Library"
   ]
  },
  {
   "cell_type": "code",
   "execution_count": 2,
   "id": "8bda1d41",
   "metadata": {},
   "outputs": [],
   "source": [
    "import pandas as pd"
   ]
  },
  {
   "cell_type": "code",
   "execution_count": 3,
   "id": "2879bb5a",
   "metadata": {},
   "outputs": [],
   "source": [
    "import numpy as np"
   ]
  },
  {
   "cell_type": "code",
   "execution_count": 4,
   "id": "b404e944",
   "metadata": {},
   "outputs": [],
   "source": [
    "import matplotlib.pyplot as plt"
   ]
  },
  {
   "cell_type": "markdown",
   "id": "eddafdc6",
   "metadata": {},
   "source": [
    "Import Data"
   ]
  },
  {
   "cell_type": "code",
   "execution_count": 5,
   "id": "a333ab9b",
   "metadata": {},
   "outputs": [],
   "source": [
    "from sklearn.datasets import load_digits"
   ]
  },
  {
   "cell_type": "code",
   "execution_count": 6,
   "id": "f2219fa8",
   "metadata": {},
   "outputs": [],
   "source": [
    "df = load_digits()"
   ]
  },
  {
   "cell_type": "code",
   "execution_count": 7,
   "id": "10f8cd5e",
   "metadata": {},
   "outputs": [
    {
     "data": {
      "image/png": "[encoded data removed]",
      "text/plain": [
       "<Figure size 720x216 with 4 Axes>"
      ]
     },
     "metadata": {
      "needs_background": "light"
     },
     "output_type": "display_data"
    }
   ],
   "source": [
    "_, axes = plt.subplots(nrows = 1, ncols = 4, figsize = (10, 3))\n",
    "for ax, image, label in zip(axes, df.images, df.target):\n",
    "    ax.set_axis_off()\n",
    "    ax.imshow(image, cmap=plt.cm.gray_r, interpolation = 'nearest')\n",
    "    ax.set_title('Training: %i' % label)"
   ]
  },
  {
   "cell_type": "markdown",
   "id": "4087b65f",
   "metadata": {},
   "source": [
    "Data Preprocessing"
   ]
  },
  {
   "cell_type": "code",
   "execution_count": 8,
   "id": "fc6508e1",
   "metadata": {},
   "outputs": [
    {
     "data": {
      "text/plain": [
       "(1797, 8, 8)"
      ]
     },
     "execution_count": 8,
     "metadata": {},
     "output_type": "execute_result"
    }
   ],
   "source": [
    "df.images.shape"
   ]
  },
  {
   "cell_type": "code",
   "execution_count": 9,
   "id": "34988627",
   "metadata": {},
   "outputs": [
    {
     "data": {
      "text/plain": [
       "array([[ 0.,  0.,  5., 13.,  9.,  1.,  0.,  0.],\n",
       "       [ 0.,  0., 13., 15., 10., 15.,  5.,  0.],\n",
       "       [ 0.,  3., 15.,  2.,  0., 11.,  8.,  0.],\n",
       "       [ 0.,  4., 12.,  0.,  0.,  8.,  8.,  0.],\n",
       "       [ 0.,  5.,  8.,  0.,  0.,  9.,  8.,  0.],\n",
       "       [ 0.,  4., 11.,  0.,  1., 12.,  7.,  0.],\n",
       "       [ 0.,  2., 14.,  5., 10., 12.,  0.,  0.],\n",
       "       [ 0.,  0.,  6., 13., 10.,  0.,  0.,  0.]])"
      ]
     },
     "execution_count": 9,
     "metadata": {},
     "output_type": "execute_result"
    }
   ],
   "source": [
    "df.images[0]"
   ]
  },
  {
   "cell_type": "code",
   "execution_count": 10,
   "id": "139e5859",
   "metadata": {},
   "outputs": [
    {
     "data": {
      "text/plain": [
       "(8, 8)"
      ]
     },
     "execution_count": 10,
     "metadata": {},
     "output_type": "execute_result"
    }
   ],
   "source": [
    "df.images[0].shape"
   ]
  },
  {
   "cell_type": "code",
   "execution_count": 11,
   "id": "5f3bc049",
   "metadata": {},
   "outputs": [],
   "source": [
    "n_samples = len(df.images)\n",
    "data = df.images.reshape((n_samples, -1))"
   ]
  },
  {
   "cell_type": "code",
   "execution_count": 12,
   "id": "56c5cf92",
   "metadata": {},
   "outputs": [
    {
     "data": {
      "text/plain": [
       "array([ 0.,  0.,  5., 13.,  9.,  1.,  0.,  0.,  0.,  0., 13., 15., 10.,\n",
       "       15.,  5.,  0.,  0.,  3., 15.,  2.,  0., 11.,  8.,  0.,  0.,  4.,\n",
       "       12.,  0.,  0.,  8.,  8.,  0.,  0.,  5.,  8.,  0.,  0.,  9.,  8.,\n",
       "        0.,  0.,  4., 11.,  0.,  1., 12.,  7.,  0.,  0.,  2., 14.,  5.,\n",
       "       10., 12.,  0.,  0.,  0.,  0.,  6., 13., 10.,  0.,  0.,  0.])"
      ]
     },
     "execution_count": 12,
     "metadata": {},
     "output_type": "execute_result"
    }
   ],
   "source": [
    "data[0]"
   ]
  },
  {
   "cell_type": "code",
   "execution_count": 13,
   "id": "9f149105",
   "metadata": {},
   "outputs": [
    {
     "data": {
      "text/plain": [
       "(64,)"
      ]
     },
     "execution_count": 13,
     "metadata": {},
     "output_type": "execute_result"
    }
   ],
   "source": [
    "data[0].shape"
   ]
  },
  {
   "cell_type": "code",
   "execution_count": 14,
   "id": "805ba6f3",
   "metadata": {},
   "outputs": [
    {
     "data": {
      "text/plain": [
       "(1797, 64)"
      ]
     },
     "execution_count": 14,
     "metadata": {},
     "output_type": "execute_result"
    }
   ],
   "source": [
    "data.shape"
   ]
  },
  {
   "cell_type": "markdown",
   "id": "2e91d68c",
   "metadata": {},
   "source": [
    "Scaling Data"
   ]
  },
  {
   "cell_type": "code",
   "execution_count": 15,
   "id": "c6f82972",
   "metadata": {},
   "outputs": [
    {
     "data": {
      "text/plain": [
       "0.0"
      ]
     },
     "execution_count": 15,
     "metadata": {},
     "output_type": "execute_result"
    }
   ],
   "source": [
    "data.min()"
   ]
  },
  {
   "cell_type": "code",
   "execution_count": 16,
   "id": "f3779a30",
   "metadata": {},
   "outputs": [
    {
     "data": {
      "text/plain": [
       "16.0"
      ]
     },
     "execution_count": 16,
     "metadata": {},
     "output_type": "execute_result"
    }
   ],
   "source": [
    "data.max()"
   ]
  },
  {
   "cell_type": "code",
   "execution_count": 17,
   "id": "38c950db",
   "metadata": {},
   "outputs": [],
   "source": [
    "data = data/16"
   ]
  },
  {
   "cell_type": "code",
   "execution_count": 18,
   "id": "d4055e40",
   "metadata": {},
   "outputs": [
    {
     "data": {
      "text/plain": [
       "0.0"
      ]
     },
     "execution_count": 18,
     "metadata": {},
     "output_type": "execute_result"
    }
   ],
   "source": [
    "data.min()\n"
   ]
  },
  {
   "cell_type": "code",
   "execution_count": 19,
   "id": "2371d65a",
   "metadata": {},
   "outputs": [
    {
     "data": {
      "text/plain": [
       "1.0"
      ]
     },
     "execution_count": 19,
     "metadata": {},
     "output_type": "execute_result"
    }
   ],
   "source": [
    "data.max()"
   ]
  },
  {
   "cell_type": "code",
   "execution_count": 20,
   "id": "7944078f",
   "metadata": {},
   "outputs": [
    {
     "data": {
      "text/plain": [
       "array([0.    , 0.    , 0.3125, 0.8125, 0.5625, 0.0625, 0.    , 0.    ,\n",
       "       0.    , 0.    , 0.8125, 0.9375, 0.625 , 0.9375, 0.3125, 0.    ,\n",
       "       0.    , 0.1875, 0.9375, 0.125 , 0.    , 0.6875, 0.5   , 0.    ,\n",
       "       0.    , 0.25  , 0.75  , 0.    , 0.    , 0.5   , 0.5   , 0.    ,\n",
       "       0.    , 0.3125, 0.5   , 0.    , 0.    , 0.5625, 0.5   , 0.    ,\n",
       "       0.    , 0.25  , 0.6875, 0.    , 0.0625, 0.75  , 0.4375, 0.    ,\n",
       "       0.    , 0.125 , 0.875 , 0.3125, 0.625 , 0.75  , 0.    , 0.    ,\n",
       "       0.    , 0.    , 0.375 , 0.8125, 0.625 , 0.    , 0.    , 0.    ])"
      ]
     },
     "execution_count": 20,
     "metadata": {},
     "output_type": "execute_result"
    }
   ],
   "source": [
    "data[0]"
   ]
  },
  {
   "cell_type": "markdown",
   "id": "602afa4d",
   "metadata": {},
   "source": [
    "Train test split Data"
   ]
  },
  {
   "cell_type": "code",
   "execution_count": 21,
   "id": "4eb66039",
   "metadata": {},
   "outputs": [],
   "source": [
    "from sklearn.model_selection import train_test_split"
   ]
  },
  {
   "cell_type": "code",
   "execution_count": 22,
   "id": "9da2882e",
   "metadata": {},
   "outputs": [],
   "source": [
    "xtrain, xtest, ytrain, ytest = train_test_split(data, df.target, test_size = 0.3)"
   ]
  },
  {
   "cell_type": "code",
   "execution_count": 23,
   "id": "7016eae3",
   "metadata": {},
   "outputs": [
    {
     "data": {
      "text/plain": [
       "((1257, 64), (540, 64), (1257,), (540,))"
      ]
     },
     "execution_count": 23,
     "metadata": {},
     "output_type": "execute_result"
    }
   ],
   "source": [
    "xtrain.shape, xtest.shape, ytrain.shape, ytest.shape"
   ]
  },
  {
   "cell_type": "markdown",
   "id": "41e15b3a",
   "metadata": {},
   "source": [
    "Random Forest model"
   ]
  },
  {
   "cell_type": "code",
   "execution_count": 24,
   "id": "07d17ee4",
   "metadata": {},
   "outputs": [],
   "source": [
    "from sklearn.ensemble import RandomForestClassifier"
   ]
  },
  {
   "cell_type": "code",
   "execution_count": 25,
   "id": "47d6e69e",
   "metadata": {},
   "outputs": [],
   "source": [
    "rf = RandomForestClassifier()"
   ]
  },
  {
   "cell_type": "code",
   "execution_count": 26,
   "id": "e39a5aab",
   "metadata": {},
   "outputs": [
    {
     "data": {
      "text/plain": [
       "RandomForestClassifier()"
      ]
     },
     "execution_count": 26,
     "metadata": {},
     "output_type": "execute_result"
    }
   ],
   "source": [
    "rf.fit(xtrain, ytrain)"
   ]
  },
  {
   "cell_type": "markdown",
   "id": "8e32586a",
   "metadata": {},
   "source": [
    "Predict Test Data"
   ]
  },
  {
   "cell_type": "code",
   "execution_count": 27,
   "id": "5360f9c8",
   "metadata": {},
   "outputs": [],
   "source": [
    "y_pred = rf.predict(xtest)"
   ]
  },
  {
   "cell_type": "code",
   "execution_count": 28,
   "id": "eb262560",
   "metadata": {},
   "outputs": [
    {
     "data": {
      "text/plain": [
       "array([2, 8, 0, 3, 4, 6, 8, 1, 3, 4, 2, 4, 9, 0, 5, 5, 2, 2, 3, 2, 8, 8,\n",
       "       1, 6, 5, 3, 3, 1, 8, 1, 3, 3, 2, 1, 1, 5, 0, 8, 9, 1, 0, 3, 1, 9,\n",
       "       7, 6, 6, 8, 6, 1, 0, 3, 9, 4, 7, 9, 9, 5, 7, 0, 3, 0, 1, 0, 0, 8,\n",
       "       9, 9, 7, 4, 7, 3, 1, 5, 1, 2, 2, 1, 5, 0, 6, 5, 3, 7, 0, 2, 1, 0,\n",
       "       6, 3, 0, 2, 7, 5, 1, 3, 3, 3, 1, 8, 0, 9, 0, 1, 4, 1, 9, 0, 8, 1,\n",
       "       3, 5, 0, 4, 0, 3, 1, 9, 9, 8, 7, 0, 3, 8, 3, 4, 6, 5, 4, 3, 7, 5,\n",
       "       1, 4, 3, 3, 8, 8, 6, 4, 8, 5, 6, 6, 5, 7, 1, 1, 6, 5, 9, 1, 7, 4,\n",
       "       4, 6, 5, 3, 0, 5, 4, 5, 3, 3, 8, 2, 9, 5, 6, 6, 3, 6, 4, 8, 1, 4,\n",
       "       1, 9, 8, 9, 8, 7, 2, 5, 8, 4, 1, 4, 4, 9, 4, 4, 8, 9, 8, 2, 4, 8,\n",
       "       4, 8, 8, 6, 5, 0, 4, 6, 4, 9, 9, 0, 5, 5, 1, 8, 5, 5, 8, 9, 3, 1,\n",
       "       7, 3, 6, 7, 1, 6, 9, 8, 5, 2, 0, 0, 7, 0, 5, 2, 9, 5, 8, 7, 1, 1,\n",
       "       3, 1, 1, 2, 3, 1, 0, 2, 9, 1, 0, 2, 2, 6, 0, 6, 7, 4, 4, 0, 5, 2,\n",
       "       1, 0, 3, 5, 8, 9, 4, 4, 2, 9, 9, 4, 7, 2, 4, 1, 5, 5, 4, 0, 9, 1,\n",
       "       0, 7, 0, 0, 4, 9, 9, 4, 6, 0, 5, 5, 3, 4, 1, 7, 0, 6, 3, 7, 7, 6,\n",
       "       6, 8, 4, 6, 6, 5, 2, 4, 0, 3, 8, 5, 4, 9, 0, 2, 7, 7, 7, 9, 1, 2,\n",
       "       6, 9, 3, 6, 9, 2, 4, 2, 6, 6, 2, 0, 0, 4, 7, 8, 1, 9, 7, 7, 9, 0,\n",
       "       3, 3, 4, 3, 7, 2, 2, 6, 0, 8, 1, 2, 5, 5, 4, 4, 0, 9, 7, 2, 7, 6,\n",
       "       9, 8, 7, 0, 9, 8, 6, 4, 9, 5, 3, 9, 4, 1, 3, 1, 0, 3, 7, 8, 5, 7,\n",
       "       7, 3, 0, 9, 9, 1, 0, 1, 9, 0, 8, 2, 0, 0, 8, 5, 2, 3, 2, 9, 3, 5,\n",
       "       9, 0, 9, 9, 9, 0, 6, 5, 4, 8, 3, 9, 9, 1, 4, 1, 1, 2, 8, 8, 9, 1,\n",
       "       0, 2, 5, 3, 7, 1, 6, 7, 2, 8, 7, 6, 8, 5, 1, 0, 1, 3, 7, 6, 3, 9,\n",
       "       8, 0, 3, 4, 0, 9, 4, 7, 5, 5, 6, 5, 4, 8, 4, 1, 6, 6, 2, 6, 1, 7,\n",
       "       9, 7, 1, 6, 2, 0, 5, 2, 6, 3, 8, 8, 6, 1, 4, 5, 5, 7, 3, 8, 7, 4,\n",
       "       0, 4, 2, 9, 3, 3, 8, 7, 4, 3, 9, 2, 6, 7, 6, 0, 2, 7, 8, 1, 1, 6,\n",
       "       1, 5, 4, 1, 2, 5, 3, 5, 6, 7, 7, 9])"
      ]
     },
     "execution_count": 28,
     "metadata": {},
     "output_type": "execute_result"
    }
   ],
   "source": [
    "y_pred"
   ]
  },
  {
   "cell_type": "markdown",
   "id": "42b817da",
   "metadata": {},
   "source": [
    "Model Accuracy"
   ]
  },
  {
   "cell_type": "code",
   "execution_count": 30,
   "id": "5007e5ff",
   "metadata": {},
   "outputs": [],
   "source": [
    "from sklearn.metrics import confusion_matrix, classification_report"
   ]
  },
  {
   "cell_type": "code",
   "execution_count": 31,
   "id": "d40dadb5",
   "metadata": {},
   "outputs": [
    {
     "data": {
      "text/plain": [
       "array([[58,  0,  0,  0,  0,  0,  0,  0,  0,  0],\n",
       "       [ 0, 58,  0,  0,  0,  0,  0,  0,  0,  0],\n",
       "       [ 1,  0, 45,  0,  0,  0,  0,  0,  0,  0],\n",
       "       [ 0,  0,  0, 56,  0,  0,  0,  0,  1,  0],\n",
       "       [ 0,  0,  0,  0, 54,  0,  0,  0,  0,  0],\n",
       "       [ 0,  0,  0,  0,  1, 54,  0,  0,  0,  1],\n",
       "       [ 0,  0,  0,  0,  0,  0, 50,  0,  0,  0],\n",
       "       [ 0,  0,  0,  0,  0,  0,  0, 47,  0,  0],\n",
       "       [ 0,  4,  0,  0,  1,  0,  0,  1, 50,  0],\n",
       "       [ 0,  0,  0,  0,  0,  0,  0,  1,  0, 57]], dtype=int64)"
      ]
     },
     "execution_count": 31,
     "metadata": {},
     "output_type": "execute_result"
    }
   ],
   "source": [
    "confusion_matrix(ytest, y_pred)"
   ]
  },
  {
   "cell_type": "code",
   "execution_count": 32,
   "id": "1e0b00e0",
   "metadata": {},
   "outputs": [
    {
     "name": "stdout",
     "output_type": "stream",
     "text": [
      "              precision    recall  f1-score   support\n",
      "\n",
      "           0       0.98      1.00      0.99        58\n",
      "           1       0.94      1.00      0.97        58\n",
      "           2       1.00      0.98      0.99        46\n",
      "           3       1.00      0.98      0.99        57\n",
      "           4       0.96      1.00      0.98        54\n",
      "           5       1.00      0.96      0.98        56\n",
      "           6       1.00      1.00      1.00        50\n",
      "           7       0.96      1.00      0.98        47\n",
      "           8       0.98      0.89      0.93        56\n",
      "           9       0.98      0.98      0.98        58\n",
      "\n",
      "    accuracy                           0.98       540\n",
      "   macro avg       0.98      0.98      0.98       540\n",
      "weighted avg       0.98      0.98      0.98       540\n",
      "\n"
     ]
    }
   ],
   "source": [
    "print(classification_report(ytest, y_pred))"
   ]
  },
  {
   "cell_type": "code",
   "execution_count": null,
   "id": "c26352f6",
   "metadata": {},
   "outputs": [],
   "source": []
  }
 ],
 "metadata": {
  "kernelspec": {
   "display_name": "Python 3 (ipykernel)",
   "language": "python",
   "name": "python3"
  },
  "language_info": {
   "codemirror_mode": {
    "name": "ipython",
    "version": 3
   },
   "file_extension": ".py",
   "mimetype": "text/x-python",
   "name": "python",
   "nbconvert_exporter": "python",
   "pygments_lexer": "ipython3",
   "version": "3.9.7"
  }
 },
 "nbformat": 4,
 "nbformat_minor": 5
}
